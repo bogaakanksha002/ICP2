{
  "nbformat": 4,
  "nbformat_minor": 0,
  "metadata": {
    "colab": {
      "provenance": []
    },
    "kernelspec": {
      "name": "python3",
      "display_name": "Python 3"
    },
    "language_info": {
      "name": "python"
    }
  },
  "cells": [
    {
      "cell_type": "markdown",
      "source": [
        "python code to display the following star pattern using the for loop"
      ],
      "metadata": {
        "id": "3YO8BccCdUKj"
      }
    },
    {
      "cell_type": "code",
      "source": [
        "def print_star_pattern():\n",
        "    n = 5  # This is the midpoint for the increasing pattern\n",
        "\n",
        "    # First half (increasing pattern)\n",
        "    for i in range(n):\n",
        "        for j in range(i + 1):\n",
        "            print('*', end=' ')\n",
        "        print()\n",
        "\n",
        "    # Second half (decreasing pattern)\n",
        "    for i in range(n - 1, 0, -1):\n",
        "        for j in range(i):\n",
        "            print('*', end=' ')\n",
        "        print()\n",
        "\n",
        "print_star_pattern()\n"
      ],
      "metadata": {
        "colab": {
          "base_uri": "https://localhost:8080/"
        },
        "id": "LPZjoR0Tca02",
        "outputId": "e2419327-b6fd-414a-a072-33502fa89e7b"
      },
      "execution_count": 2,
      "outputs": [
        {
          "output_type": "stream",
          "name": "stdout",
          "text": [
            "* \n",
            "* * \n",
            "* * * \n",
            "* * * * \n",
            "* * * * * \n",
            "* * * * \n",
            "* * * \n",
            "* * \n",
            "* \n"
          ]
        }
      ]
    },
    {
      "cell_type": "markdown",
      "source": [
        "Use looping to output the elements from a provided list present at odd indexes.\n",
        "my_list = [10, 20, 30, 40, 50, 60, 70, 80, 90, 100]\n"
      ],
      "metadata": {
        "id": "MYC0OLQsdc6v"
      }
    },
    {
      "cell_type": "code",
      "source": [
        "my_list = [10, 20, 30, 40, 50, 60, 70, 80, 90, 100]\n",
        "\n",
        "def print_odd_index_elements(lst):\n",
        "    for i in range(1, len(lst), 2):  # Start at index 1, go up to the length of the list, with a step of 2\n",
        "        print(lst[i])\n",
        "\n",
        "print_odd_index_elements(my_list)\n"
      ],
      "metadata": {
        "colab": {
          "base_uri": "https://localhost:8080/"
        },
        "id": "bdFtFe6hcc2N",
        "outputId": "cd314782-ab78-4387-9e95-3d71270ec45c"
      },
      "execution_count": 3,
      "outputs": [
        {
          "output_type": "stream",
          "name": "stdout",
          "text": [
            "20\n",
            "40\n",
            "60\n",
            "80\n",
            "100\n"
          ]
        }
      ]
    },
    {
      "cell_type": "markdown",
      "source": [
        "a code that appends the type of elements from a given list.\n",
        "Input\n",
        "x = [23, ‘Python’, 23.98]"
      ],
      "metadata": {
        "id": "lJtK-72uemU7"
      }
    },
    {
      "cell_type": "code",
      "source": [
        "x = [23, 'Python', 23.98]\n",
        "\n",
        "def append_types(lst):\n",
        "    types_list = [type(element) for element in lst]\n",
        "    return types_list\n",
        "\n",
        "# Original list\n",
        "print(x)\n",
        "\n",
        "# List of types\n",
        "types_list = append_types(x)\n",
        "print(types_list)\n",
        "\n"
      ],
      "metadata": {
        "colab": {
          "base_uri": "https://localhost:8080/"
        },
        "id": "vm7EctnHemla",
        "outputId": "75049ed0-bfe3-47b5-ae37-36750790a971"
      },
      "execution_count": 4,
      "outputs": [
        {
          "output_type": "stream",
          "name": "stdout",
          "text": [
            "[23, 'Python', 23.98]\n",
            "[<class 'int'>, <class 'str'>, <class 'float'>]\n"
          ]
        }
      ]
    },
    {
      "cell_type": "markdown",
      "source": [
        "function that takes a list and returns a new list with unique items of the first list."
      ],
      "metadata": {
        "id": "maBCUvhpeyI4"
      }
    },
    {
      "cell_type": "code",
      "source": [
        "def get_unique_items(lst):\n",
        "    unique_list = list(set(lst))\n",
        "    return unique_list\n",
        "\n",
        "# Sample list\n",
        "sample_list = [1, 2, 3, 3, 3, 3, 4, 5]\n",
        "\n",
        "# Get unique items\n",
        "unique_list = get_unique_items(sample_list)\n",
        "\n",
        "# Print the unique list\n",
        "print(\"Sample List:\", sample_list)\n",
        "print(\"Unique List:\", unique_list)\n",
        "\n"
      ],
      "metadata": {
        "colab": {
          "base_uri": "https://localhost:8080/"
        },
        "id": "1kLxrS42flTS",
        "outputId": "d0d499ac-75be-4599-a46e-85dbcb64c62a"
      },
      "execution_count": 5,
      "outputs": [
        {
          "output_type": "stream",
          "name": "stdout",
          "text": [
            "Sample List: [1, 2, 3, 3, 3, 3, 4, 5]\n",
            "Unique List: [1, 2, 3, 4, 5]\n"
          ]
        }
      ]
    },
    {
      "cell_type": "markdown",
      "source": [
        "a function that accepts a string and calculate the number of upper-case letters and lower-case\n",
        "letters."
      ],
      "metadata": {
        "id": "rzPB8whvfs5r"
      }
    },
    {
      "cell_type": "code",
      "source": [
        "def count_case_characters(input_string):\n",
        "    upper_count = 0\n",
        "    lower_count = 0\n",
        "\n",
        "    for char in input_string:\n",
        "        if char.isupper():\n",
        "            upper_count += 1\n",
        "        elif char.islower():\n",
        "            lower_count += 1\n",
        "\n",
        "    print(\"No. of Upper-case characters:\", upper_count)\n",
        "    print(\"No. of Lower-case Characters:\", lower_count)\n",
        "\n",
        "# Test the function with the provided input\n",
        "input_string = 'The quick Brow Fox'\n",
        "count_case_characters(input_string)\n"
      ],
      "metadata": {
        "colab": {
          "base_uri": "https://localhost:8080/"
        },
        "id": "SXpJDYYpfms5",
        "outputId": "9cf7408d-655b-495d-beca-14e4b23ec1a4"
      },
      "execution_count": 6,
      "outputs": [
        {
          "output_type": "stream",
          "name": "stdout",
          "text": [
            "No. of Upper-case characters: 3\n",
            "No. of Lower-case Characters: 12\n"
          ]
        }
      ]
    }
  ]
}